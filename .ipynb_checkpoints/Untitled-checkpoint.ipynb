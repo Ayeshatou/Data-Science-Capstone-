{
 "cells": [
  {
   "cell_type": "code",
   "execution_count": 2,
   "id": "7c31df27",
   "metadata": {},
   "outputs": [],
   "source": [
    "import pandas as pd "
   ]
  },
  {
   "cell_type": "code",
   "execution_count": 3,
   "id": "d5ceca88",
   "metadata": {},
   "outputs": [],
   "source": [
    "import seaborn as sns \n",
    "import numpy as np "
   ]
  },
  {
   "cell_type": "code",
   "execution_count": 1,
   "id": "04c99b23",
   "metadata": {},
   "outputs": [],
   "source": [
    "import matplotlib.pyplot as plt"
   ]
  },
  {
   "cell_type": "code",
   "execution_count": 1,
   "id": "a916076b",
   "metadata": {},
   "outputs": [],
   "source": [
    "import math\n"
   ]
  },
  {
   "cell_type": "code",
   "execution_count": 1,
   "id": "801cac29",
   "metadata": {},
   "outputs": [
    {
     "name": "stdout",
     "output_type": "stream",
     "text": [
      "2\n"
     ]
    }
   ],
   "source": [
    "a=1+1\n",
    "print(a)"
   ]
  },
  {
   "cell_type": "code",
   "execution_count": null,
   "id": "de6aae13",
   "metadata": {},
   "outputs": [],
   "source": [
    "import sklearn"
   ]
  },
  {
   "cell_type": "code",
   "execution_count": 3,
   "id": "c522b043",
   "metadata": {},
   "outputs": [
    {
     "name": "stdout",
     "output_type": "stream",
     "text": [
      "    Glucose  Cholesterol  Hemoglobin  Platelets  White Blood Cells  \\\n",
      "0  0.001827     0.033693    0.114755   0.997927           0.562604   \n",
      "1  0.436679     0.972653    0.084998   0.180909           0.675736   \n",
      "2  0.545697     0.324815    0.584467   0.475748           0.558596   \n",
      "3  0.172994     0.050351    0.736000   0.782022           0.069435   \n",
      "4  0.758534     0.739968    0.597868   0.772683           0.875720   \n",
      "\n",
      "   Red Blood Cells  Hematocrit  Mean Corpuscular Volume  \\\n",
      "0         0.866499    0.578042                 0.914615   \n",
      "1         0.563889    0.798382                 0.670361   \n",
      "2         0.661007    0.934056                 0.381782   \n",
      "3         0.085219    0.032907                 0.460619   \n",
      "4         0.860265    0.486189                 0.486686   \n",
      "\n",
      "   Mean Corpuscular Hemoglobin  Mean Corpuscular Hemoglobin Concentration  \\\n",
      "0                     0.026864                                   0.038641   \n",
      "1                     0.376092                                   0.184890   \n",
      "2                     0.500342                                   0.531829   \n",
      "3                     0.785448                                   0.491495   \n",
      "4                     0.621048                                   0.191756   \n",
      "\n",
      "   ...     HbA1c  LDL Cholesterol  HDL Cholesterol       ALT       AST  \\\n",
      "0  ...  0.653230         0.186104         0.430398  0.016678  0.885352   \n",
      "1  ...  0.833540         0.153001         0.458533  0.401845  0.635969   \n",
      "2  ...  0.678901         0.220479         0.817151  0.690981  0.101633   \n",
      "3  ...  0.381500         0.459396         0.420154  0.798537  0.399236   \n",
      "4  ...  0.993381         0.272338         0.663579  0.265227  0.918847   \n",
      "\n",
      "   Heart Rate  Creatinine  Troponin  C-reactive Protein   Disease  \n",
      "0    0.652733    0.788235  0.054788            0.031313  Thalasse  \n",
      "1    0.574425    0.047025  0.607985            0.594123  Diabetes  \n",
      "2    0.855740    0.551124  0.413294            0.070909  Heart Di  \n",
      "3    0.324600    0.499504  0.436662            0.242766  Diabetes  \n",
      "4    0.804910    0.571119  0.188368            0.750848  Heart Di  \n",
      "\n",
      "[5 rows x 25 columns]\n"
     ]
    }
   ],
   "source": [
    "\n",
    "df = pd.read_csv('blood_samples_dataset_test.csv')\n",
    "\n",
    "print(df.head(5))"
   ]
  },
  {
   "cell_type": "code",
   "execution_count": null,
   "id": "d49470bb",
   "metadata": {},
   "outputs": [],
   "source": []
  }
 ],
 "metadata": {
  "kernelspec": {
   "display_name": "Python 3 (ipykernel)",
   "language": "python",
   "name": "python3"
  },
  "language_info": {
   "codemirror_mode": {
    "name": "ipython",
    "version": 3
   },
   "file_extension": ".py",
   "mimetype": "text/x-python",
   "name": "python",
   "nbconvert_exporter": "python",
   "pygments_lexer": "ipython3",
   "version": "3.9.13"
  }
 },
 "nbformat": 4,
 "nbformat_minor": 5
}
